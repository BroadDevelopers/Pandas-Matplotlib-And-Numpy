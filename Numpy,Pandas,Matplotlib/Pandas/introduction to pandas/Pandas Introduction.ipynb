{
 "cells": [
  {
   "cell_type": "code",
   "execution_count": null,
   "metadata": {},
   "outputs": [],
   "source": [
    "\"\"\"\n",
    "What is data science/analytics\n",
    "is a process of analyzing large set of data points to get answers\n",
    "on questions related to that data\n",
    "\"\"\"\n",
    "\"\"\"\n",
    "Pandas\n",
    "is a python module that makes data science easy and effective\n",
    "process of cleaning data in pandas is called data munging or data wrangling\n",
    "\"\"\"\n",
    "\n"
   ]
  }
 ],
 "metadata": {
  "kernelspec": {
   "display_name": "Python 3",
   "language": "python",
   "name": "python3"
  },
  "language_info": {
   "codemirror_mode": {
    "name": "ipython",
    "version": 3
   },
   "file_extension": ".py",
   "mimetype": "text/x-python",
   "name": "python",
   "nbconvert_exporter": "python",
   "pygments_lexer": "ipython3",
   "version": "3.6.5"
  }
 },
 "nbformat": 4,
 "nbformat_minor": 2
}
