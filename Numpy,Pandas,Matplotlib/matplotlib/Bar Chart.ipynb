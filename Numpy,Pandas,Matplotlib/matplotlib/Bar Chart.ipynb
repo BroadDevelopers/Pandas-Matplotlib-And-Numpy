{
 "cells": [
  {
   "cell_type": "code",
   "execution_count": 1,
   "metadata": {},
   "outputs": [],
   "source": [
    "\"\"\"\n",
    "Barchart\n",
    "\"\"\"\n",
    "import matplotlib.pyplot as plt\n",
    "import numpy as np\n",
    "%matplotlib inline\n"
   ]
  },
  {
   "cell_type": "code",
   "execution_count": 11,
   "metadata": {},
   "outputs": [],
   "source": [
    "company=['GOOGL','AMZN','MSFT','FB']\n",
    "revenue=[90,136,89,27]\n",
    "\"\"\"\n",
    "lets say we have profit numbers for each of these companies\n",
    "and we want to plot profit on the same chart\n",
    "\"\"\"\n",
    "profit=[40,2,34,12]"
   ]
  },
  {
   "cell_type": "code",
   "execution_count": 13,
   "metadata": {},
   "outputs": [
    {
     "data": {
      "text/plain": [
       "array([0, 1, 2, 3])"
      ]
     },
     "execution_count": 13,
     "metadata": {},
     "output_type": "execute_result"
    }
   ],
   "source": [
    "\"\"\"\n",
    "on x axis or company on barcart, but it doest honor string \n",
    "so we have to create a y position array by doing np.arange\n",
    "\n",
    "\"\"\"\n",
    "#plt.bar(company,revenue)\n",
    "xpos=np.arange(len(company))\n",
    "xpos\n"
   ]
  },
  {
   "cell_type": "code",
   "execution_count": 16,
   "metadata": {},
   "outputs": [
    {
     "data": {
      "text/plain": [
       "<matplotlib.legend.Legend at 0x1fdafd2d6d8>"
      ]
     },
     "execution_count": 16,
     "metadata": {},
     "output_type": "execute_result"
    },
    {
     "data": {
      "image/png": "[encoded data removed]",
      "text/plain": [
       "<Figure size 432x288 with 1 Axes>"
      ]
     },
     "metadata": {},
     "output_type": "display_data"
    }
   ],
   "source": [
    "\"\"\"\n",
    "now instead of company we can use ypos because it is a list of numbers\n",
    "not a string\n",
    "we want to replace the x-axis values with the values of company name\n",
    "using xtick s function(ypos,company)\n",
    "\"\"\"\n",
    "plt.xticks(ypos,company)#replaces numbers with comany name\n",
    "plt.ylabel(\"revenue(bln)\")\n",
    "plt.title(\"us tech stocks\")\n",
    "\"\"\"\n",
    "What if we want to plot different measure\n",
    "\"\"\"\n",
    "plt.bar(xpos-0.2,revenue,width=0.4,label=\"Revenue\")\n",
    "plt.bar(xpos+0.2,profit,width=0.4,label=\"profit\")\n",
    "plt.legend()"
   ]
  },
  {
   "cell_type": "code",
   "execution_count": 18,
   "metadata": {},
   "outputs": [
    {
     "data": {
      "text/plain": [
       "<matplotlib.legend.Legend at 0x1fdafe13390>"
      ]
     },
     "execution_count": 18,
     "metadata": {},
     "output_type": "execute_result"
    },
    {
     "data": {
      "image/png": "[encoded data removed]",
      "text/plain": [
       "<Figure size 432x288 with 1 Axes>"
      ]
     },
     "metadata": {},
     "output_type": "display_data"
    }
   ],
   "source": [
    "\"\"\"\n",
    "Horizontal barchart using barh function\n",
    "\"\"\"\n",
    "plt.yticks(ypos,company)#replaces numbers with comany name\n",
    "plt.title(\"us tech stocks\")\n",
    "\n",
    "plt.barh(xpos-0.2,revenue,label=\"Revenue\")\n",
    "plt.barh(xpos+0.2,profit,label=\"profit\")\n",
    "plt.legend()"
   ]
  },
  {
   "cell_type": "code",
   "execution_count": null,
   "metadata": {},
   "outputs": [],
   "source": []
  }
 ],
 "metadata": {
  "kernelspec": {
   "display_name": "Python 3",
   "language": "python",
   "name": "python3"
  },
  "language_info": {
   "codemirror_mode": {
    "name": "ipython",
    "version": 3
   },
   "file_extension": ".py",
   "mimetype": "text/x-python",
   "name": "python",
   "nbconvert_exporter": "python",
   "pygments_lexer": "ipython3",
   "version": "3.6.5"
  }
 },
 "nbformat": 4,
 "nbformat_minor": 2
}
