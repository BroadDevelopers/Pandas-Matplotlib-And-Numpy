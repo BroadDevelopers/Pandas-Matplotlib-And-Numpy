{
 "cells": [
  {
   "cell_type": "code",
   "execution_count": 2,
   "metadata": {},
   "outputs": [],
   "source": [
    "\"\"\"\n",
    "histograms are barcharts where the y axis represents the frequency of a\n",
    "table\n",
    "lets say you blood sugar level of different patients and you want to knoow\n",
    "how many patients are normal,pre-diabetic and diabetic\n",
    "\"\"\"\n",
    "import matplotlib.pyplot as plt\n",
    "%matplotlib inline"
   ]
  },
  {
   "cell_type": "code",
   "execution_count": 25,
   "metadata": {},
   "outputs": [
    {
     "data": {
      "text/plain": [
       "'\\n\\nby default it will plot ten bins for you\\nin histogram bin/bucket which is really a range\\nin all case we want 3 diff ranges like\\n80-100\\n100-125\\nabove 125\\nbins(array([ 77. ,  84.3,  91.6,  98.9, 106.2, 113.5, 120.8, 128.1, 135.4,\\n        142.7, 150. ]),)\\n        lets play with the bins parameters\\n        \\n        bin=3 bars are joined but we can make them look better by supplying\\n        r width parameter- is a relative width of a bar compared to a bin size\\n'"
      ]
     },
     "execution_count": 25,
     "metadata": {},
     "output_type": "execute_result"
    },
    {
     "data": {
      "image/png": "[encoded data removed]",
      "text/plain": [
       "<Figure size 432x288 with 1 Axes>"
      ]
     },
     "metadata": {},
     "output_type": "display_data"
    }
   ],
   "source": [
    "\"\"\"\n",
    "lets now include blood sugar level for the woman\n",
    "and we want tot plot two types of histograms\n",
    "\"\"\"\n",
    "blood_sugar_man=[113,85,90,150,149,88,93,115,135,80,77,82,129]\n",
    "blood_sugar_women=[67,98,89,120,133,150,84,69,89,79,120,112,100]\n",
    "plt.xlabel=('sugar range')\n",
    "plt.ylabel=('Total number of patients')\n",
    "plt.title=('Blood Sugar Analysis')\n",
    "#plt.hist(blood_sugar,bins=[80,100,125,150],rwidth=0.95,color='g')\n",
    "plt.hist([blood_sugar_man,blood_sugar_women],bins=[80,100,125,150],rwidth=0.95,color=['green','orange'],label=['man','women'])\n",
    "\n",
    "\n",
    "\n",
    "plt.legend()\n",
    "\n",
    "\n",
    "\"\"\"\n",
    "\n",
    "by default it will plot ten bins for you\n",
    "in histogram bin/bucket which is really a range\n",
    "in all case we want 3 diff ranges like\n",
    "80-100\n",
    "100-125\n",
    "above 125\n",
    "bins(array([ 77. ,  84.3,  91.6,  98.9, 106.2, 113.5, 120.8, 128.1, 135.4,\n",
    "        142.7, 150. ]),)\n",
    "        lets play with the bins parameters\n",
    "        \n",
    "        bin=3 bars are joined but we can make them look better by supplying\n",
    "        r width parameter- is a relative width of a bar compared to a bin size\n",
    "\"\"\"\n"
   ]
  },
  {
   "cell_type": "code",
   "execution_count": null,
   "metadata": {},
   "outputs": [],
   "source": []
  },
  {
   "cell_type": "code",
   "execution_count": null,
   "metadata": {},
   "outputs": [],
   "source": []
  }
 ],
 "metadata": {
  "kernelspec": {
   "display_name": "Python 3",
   "language": "python",
   "name": "python3"
  },
  "language_info": {
   "codemirror_mode": {
    "name": "ipython",
    "version": 3
   },
   "file_extension": ".py",
   "mimetype": "text/x-python",
   "name": "python",
   "nbconvert_exporter": "python",
   "pygments_lexer": "ipython3",
   "version": "3.6.5"
  }
 },
 "nbformat": 4,
 "nbformat_minor": 2
}
